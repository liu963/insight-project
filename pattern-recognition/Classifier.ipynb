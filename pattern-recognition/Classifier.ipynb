{
 "cells": [
  {
   "cell_type": "code",
   "execution_count": 903,
   "metadata": {
    "collapsed": true
   },
   "outputs": [],
   "source": [
    "import numpy as np\n",
    "import matplotlib\n",
    "import matplotlib.pyplot as plt\n",
    "from sklearn.cluster import KMeans\n",
    "from scipy.stats import iqr\n",
    "import pandas as pd\n",
    "import random"
   ]
  },
  {
   "cell_type": "code",
   "execution_count": 904,
   "metadata": {
    "collapsed": false
   },
   "outputs": [
    {
     "data": {
      "text/plain": [
       "152"
      ]
     },
     "execution_count": 904,
     "metadata": {},
     "output_type": "execute_result"
    }
   ],
   "source": [
    "# Read in data\n",
    "data = pd.read_csv('labels.txt')\n",
    "len(data)"
   ]
  },
  {
   "cell_type": "code",
   "execution_count": 905,
   "metadata": {
    "collapsed": false
   },
   "outputs": [
    {
     "data": {
      "text/plain": [
       "137"
      ]
     },
     "execution_count": 905,
     "metadata": {},
     "output_type": "execute_result"
    }
   ],
   "source": [
    "data = data[data.ClusterSize>10]\n",
    "len(data)"
   ]
  },
  {
   "cell_type": "code",
   "execution_count": 906,
   "metadata": {
    "collapsed": false
   },
   "outputs": [],
   "source": [
    "data = data.reindex(np.random.permutation(data.index))\n",
    "\n",
    "cutoff = int(0.7*len(data))\n",
    "\n",
    "train_data = data[:cutoff]\n",
    "test_data = data[cutoff:]"
   ]
  },
  {
   "cell_type": "code",
   "execution_count": 907,
   "metadata": {
    "collapsed": false
   },
   "outputs": [],
   "source": [
    "X = np.array([data.MedLength,data.IqrAngle]).T\n",
    "# X = data.Avglength.as_matrix().reshape(-1,1)\n",
    "y = data.Label.as_matrix()"
   ]
  },
  {
   "cell_type": "code",
   "execution_count": 908,
   "metadata": {
    "collapsed": false
   },
   "outputs": [
    {
     "data": {
      "image/png": "[encoded data removed]",
      "text/plain": [
       "<matplotlib.figure.Figure at 0x11ec2d190>"
      ]
     },
     "metadata": {},
     "output_type": "display_data"
    }
   ],
   "source": [
    "colors = ['g' if label else 'r' for label in data.Label]\n",
    "\n",
    "plt.scatter(X[:,0],X[:,1],c=colors)\n",
    "plt.axis('equal')\n",
    "plt.xlabel('Average length')\n",
    "plt.ylabel('St. dev. in angle')\n",
    "# plt.plot([x_dec,x_dec],[np.min(data.Stdangle),np.max(data.Stdangle)])\n",
    "plt.axis('tight')\n",
    "plt.show()"
   ]
  },
  {
   "cell_type": "code",
   "execution_count": 909,
   "metadata": {
    "collapsed": false
   },
   "outputs": [],
   "source": [
    "X_train = np.array([train_data.MedLength,train_data.IqrAngle]).T\n",
    "X_test = np.array([test_data.MedLength,test_data.IqrAngle]).T\n",
    "y_train = train_data.Label.as_matrix()\n",
    "y_test = test_data.Label.as_matrix()"
   ]
  },
  {
   "cell_type": "code",
   "execution_count": 910,
   "metadata": {
    "collapsed": true
   },
   "outputs": [],
   "source": [
    "# DO KNN\n",
    "from sklearn.neighbors import KNeighborsClassifier"
   ]
  },
  {
   "cell_type": "code",
   "execution_count": 911,
   "metadata": {
    "collapsed": false
   },
   "outputs": [
    {
     "data": {
      "text/plain": [
       "KNeighborsClassifier(algorithm='auto', leaf_size=30, metric='minkowski',\n",
       "           metric_params=None, n_jobs=1, n_neighbors=3, p=2,\n",
       "           weights='uniform')"
      ]
     },
     "execution_count": 911,
     "metadata": {},
     "output_type": "execute_result"
    }
   ],
   "source": [
    "neigh = KNeighborsClassifier(n_neighbors=3)\n",
    "neigh.fit(X_train, y_train)"
   ]
  },
  {
   "cell_type": "code",
   "execution_count": 912,
   "metadata": {
    "collapsed": false
   },
   "outputs": [],
   "source": [
    "# Prediction\n",
    "y_pred_train = neigh.predict(X_train)\n",
    "y_pred_test = neigh.predict(X_test)"
   ]
  },
  {
   "cell_type": "code",
   "execution_count": 913,
   "metadata": {
    "collapsed": false
   },
   "outputs": [
    {
     "name": "stdout",
     "output_type": "stream",
     "text": [
      "0.852631578947\n",
      "0.904761904762\n"
     ]
    }
   ],
   "source": [
    "train_err = float(sum(y_pred_train==y_train))/len(y_train)\n",
    "test_err = float(sum(y_pred_test==y_test))/len(y_test)\n",
    "print train_err\n",
    "print test_err"
   ]
  },
  {
   "cell_type": "code",
   "execution_count": 914,
   "metadata": {
    "collapsed": false
   },
   "outputs": [
    {
     "data": {
      "text/plain": [
       "array([1, 0, 1, 1, 1, 1, 1, 1, 1, 0, 1, 1, 1, 1, 1, 1, 1, 1, 1, 1, 1, 1, 1,\n",
       "       1, 1, 1, 1, 1, 1, 1, 1, 1, 1, 1, 1, 1, 1, 1, 0, 0, 0, 1])"
      ]
     },
     "execution_count": 914,
     "metadata": {},
     "output_type": "execute_result"
    }
   ],
   "source": [
    "y_test"
   ]
  },
  {
   "cell_type": "code",
   "execution_count": 915,
   "metadata": {
    "collapsed": false
   },
   "outputs": [
    {
     "data": {
      "text/plain": [
       "array([1, 0, 1, 1, 1, 1, 1, 1, 1, 1, 1, 1, 1, 1, 1, 1, 1, 1, 1, 1, 1, 1, 1,\n",
       "       1, 1, 1, 1, 1, 1, 1, 1, 1, 1, 1, 1, 1, 1, 1, 1, 1, 1, 1])"
      ]
     },
     "execution_count": 915,
     "metadata": {},
     "output_type": "execute_result"
    }
   ],
   "source": [
    "y_pred_test"
   ]
  },
  {
   "cell_type": "code",
   "execution_count": 916,
   "metadata": {
    "collapsed": true
   },
   "outputs": [],
   "source": [
    "# NEED TO COMPUTE specificity and sensitivity\n"
   ]
  },
  {
   "cell_type": "code",
   "execution_count": 917,
   "metadata": {
    "collapsed": false
   },
   "outputs": [
    {
     "name": "stdout",
     "output_type": "stream",
     "text": [
      "0.90243902439\n",
      "1.0\n",
      "0.948717948718\n",
      "0.904761904762\n"
     ]
    }
   ],
   "source": [
    "P = np.where(y_test==1)[0]\n",
    "N = np.where(y_test==0)[0]\n",
    "\n",
    "P_pred = np.where(y_pred_test==1)[0]\n",
    "N_pred = np.where(y_pred_test==0)[0]\n",
    "\n",
    "TP = float(len(np.intersect1d(P,P_pred)))\n",
    "TN = float(len(np.intersect1d(N,N_pred)))\n",
    "FP = float(len(np.intersect1d(N,P_pred)))\n",
    "FN = float(len(np.intersect1d(P,N_pred)))\n",
    "\n",
    "prec = TP/(TP+FP)\n",
    "recall = TP/(TP+FN)\n",
    "\n",
    "\n",
    "Fscore = 2*prec*recall/(prec + recall)\n",
    "acc = (TP + TN)/(TP + TN + FP + FN)\n",
    "\n",
    "print prec\n",
    "print recall # note: this is unbalanced by many more positive than negative examples\n",
    "print Fscore\n",
    "print acc\n"
   ]
  },
  {
   "cell_type": "code",
   "execution_count": 922,
   "metadata": {
    "collapsed": true
   },
   "outputs": [],
   "source": [
    "#high precision relates to a low false positive rate, and high recall relates to a low false negative rate."
   ]
  },
  {
   "cell_type": "code",
   "execution_count": 897,
   "metadata": {
    "collapsed": false
   },
   "outputs": [
    {
     "data": {
      "text/plain": [
       "34"
      ]
     },
     "execution_count": 897,
     "metadata": {},
     "output_type": "execute_result"
    }
   ],
   "source": [
    "len(P)"
   ]
  },
  {
   "cell_type": "code",
   "execution_count": 918,
   "metadata": {
    "collapsed": true
   },
   "outputs": [],
   "source": [
    "# NEED MORE NEGATIVE EXAMPLES"
   ]
  },
  {
   "cell_type": "code",
   "execution_count": 919,
   "metadata": {
    "collapsed": true
   },
   "outputs": [],
   "source": [
    "# Training error and test error as a function of n_neighbors"
   ]
  },
  {
   "cell_type": "code",
   "execution_count": 920,
   "metadata": {
    "collapsed": true
   },
   "outputs": [],
   "source": [
    "# Pick number of neigbors using cross-validation"
   ]
  },
  {
   "cell_type": "code",
   "execution_count": 921,
   "metadata": {
    "collapsed": true
   },
   "outputs": [],
   "source": [
    "\n",
    "# # SVM\n",
    "\n",
    "# from sklearn.svm import SVC\n",
    "\n",
    "# clf = SVC()\n",
    "# model = clf.fit(X, y) \n",
    "\n",
    "# # decision boundary for just length\n",
    "# xx = np.linspace(np.min(X),np.max(X),100)\n",
    "\n",
    "# pred_prev = 0\n",
    "# for x in xx:\n",
    "#     pred = clf.predict(x)\n",
    "#     if pred[0] > pred_prev:\n",
    "#         x_dec = x\n",
    "#         break\n",
    "#     pred_prev = pred\n",
    "\n",
    "# predictions = clf.predict(X)\n",
    "\n",
    "# colors = ['g' if label else 'r' for label in data.Label]\n",
    "\n",
    "# plt.scatter(data.Avglength,data.Stdangle,c=colors)\n",
    "# plt.axis('equal')\n",
    "# plt.xlabel('Average length')\n",
    "# plt.ylabel('St. dev. in angle')\n",
    "# # plt.plot([x_dec,x_dec],[np.min(data.Stdangle),np.max(data.Stdangle)])\n",
    "# plt.axis('tight')\n",
    "# plt.show()"
   ]
  },
  {
   "cell_type": "code",
   "execution_count": null,
   "metadata": {
    "collapsed": true
   },
   "outputs": [],
   "source": []
  }
 ],
 "metadata": {
  "anaconda-cloud": {},
  "kernelspec": {
   "display_name": "Python [conda root]",
   "language": "python",
   "name": "conda-root-py"
  },
  "language_info": {
   "codemirror_mode": {
    "name": "ipython",
    "version": 2
   },
   "file_extension": ".py",
   "mimetype": "text/x-python",
   "name": "python",
   "nbconvert_exporter": "python",
   "pygments_lexer": "ipython2",
   "version": "2.7.13"
  }
 },
 "nbformat": 4,
 "nbformat_minor": 2
}
