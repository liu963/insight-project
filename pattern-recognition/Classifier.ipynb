{
 "cells": [
  {
   "cell_type": "code",
   "execution_count": 2854,
   "metadata": {
    "collapsed": true
   },
   "outputs": [],
   "source": [
    "import numpy as np\n",
    "import matplotlib\n",
    "import matplotlib.pyplot as plt\n",
    "from sklearn.cluster import KMeans\n",
    "from scipy.stats import iqr\n",
    "import pandas as pd\n",
    "import random"
   ]
  },
  {
   "cell_type": "code",
   "execution_count": 2855,
   "metadata": {
    "collapsed": false
   },
   "outputs": [
    {
     "data": {
      "text/plain": [
       "91"
      ]
     },
     "execution_count": 2855,
     "metadata": {},
     "output_type": "execute_result"
    }
   ],
   "source": [
    "# Read in data\n",
    "data = pd.read_csv('labels_cropped.txt')\n",
    "len(data)"
   ]
  },
  {
   "cell_type": "code",
   "execution_count": 2856,
   "metadata": {
    "collapsed": false
   },
   "outputs": [
    {
     "data": {
      "text/plain": [
       "85"
      ]
     },
     "execution_count": 2856,
     "metadata": {},
     "output_type": "execute_result"
    }
   ],
   "source": [
    "data = data[data.ClusterSize>=10]\n",
    "len(data)"
   ]
  },
  {
   "cell_type": "code",
   "execution_count": 2857,
   "metadata": {
    "collapsed": false
   },
   "outputs": [
    {
     "data": {
      "text/plain": [
       "84"
      ]
     },
     "execution_count": 2857,
     "metadata": {},
     "output_type": "execute_result"
    }
   ],
   "source": [
    "# Remove duplicates\n",
    "data = data.drop_duplicates(subset=data.columns[1:])\n",
    "len(data)"
   ]
  },
  {
   "cell_type": "code",
   "execution_count": 2858,
   "metadata": {
    "collapsed": false
   },
   "outputs": [],
   "source": [
    "X = np.array([data.AvgLength,data.StdAngle]).T\n",
    "# # X = np.array([data.MedLength,data.Skew]).T\n",
    "# # X = data.Avglength.as_matrix().reshape(-1,1)\n",
    "y = data.Label.as_matrix()"
   ]
  },
  {
   "cell_type": "code",
   "execution_count": 2859,
   "metadata": {
    "collapsed": false
   },
   "outputs": [],
   "source": [
    "# data = data.reindex(np.random.permutation(data.index))\n",
    "\n",
    "# cutoff = int(0.7*len(data))\n",
    "\n",
    "# train_data = data[:cutoff]\n",
    "# test_data = data[cutoff:]"
   ]
  },
  {
   "cell_type": "code",
   "execution_count": 2860,
   "metadata": {
    "collapsed": false
   },
   "outputs": [
    {
     "name": "stdout",
     "output_type": "stream",
     "text": [
      "39\n",
      "45\n"
     ]
    }
   ],
   "source": [
    "print len(np.where(y==1)[0])\n",
    "print len(np.where(y==0)[0])"
   ]
  },
  {
   "cell_type": "code",
   "execution_count": 2861,
   "metadata": {
    "collapsed": false
   },
   "outputs": [],
   "source": [
    "# X_train = np.array([train_data.MedLength,train_data.IqrAngle]).T\n",
    "# X_test = np.array([test_data.MedLength,test_data.IqrAngle]).T\n",
    "# y_train = train_data.Label.as_matrix()\n",
    "# y_test = test_data.Label.as_matrix()"
   ]
  },
  {
   "cell_type": "code",
   "execution_count": 2862,
   "metadata": {
    "collapsed": false
   },
   "outputs": [
    {
     "data": {
      "image/png": "[encoded data removed]",
      "text/plain": [
       "<matplotlib.figure.Figure at 0x120d62e50>"
      ]
     },
     "metadata": {},
     "output_type": "display_data"
    }
   ],
   "source": [
    "colors = ['g' if label else 'r' for label in y]\n",
    "\n",
    "# plt.subplot(211)\n",
    "plt.scatter((X[:,0]),X[:,1],c=colors)\n",
    "plt.axis('equal')\n",
    "plt.xlabel('Median length')\n",
    "plt.ylabel('Iqr in angle')\n",
    "# plt.plot([x_dec,x_dec],[np.min(data.Stdangle),np.max(data.Stdangle)])\n",
    "plt.axis('tight')\n",
    "plt.show()\n",
    "\n",
    "# colors_pred = ['g' if label else 'r' for label in y_pred]\n",
    "\n",
    "# plt.subplot(212)\n",
    "# plt.scatter(X[:,0],X[:,1],c=colors_pred)\n",
    "# plt.axis('equal')\n",
    "# plt.xlabel('Average length')\n",
    "# plt.ylabel('St. dev. in angle')\n",
    "# # plt.plot([x_dec,x_dec],[np.min(data.Stdangle),np.max(data.Stdangle)])\n",
    "# plt.axis('tight')\n",
    "# plt.show()\n"
   ]
  },
  {
   "cell_type": "code",
   "execution_count": 2863,
   "metadata": {
    "collapsed": false
   },
   "outputs": [
    {
     "data": {
      "text/html": [
       "<div>\n",
       "<table border=\"1\" class=\"dataframe\">\n",
       "  <thead>\n",
       "    <tr style=\"text-align: right;\">\n",
       "      <th></th>\n",
       "      <th>ImgID</th>\n",
       "      <th>Label</th>\n",
       "      <th>ClusterSize</th>\n",
       "      <th>AvgLength</th>\n",
       "      <th>MedLength</th>\n",
       "      <th>StdAngle</th>\n",
       "      <th>IqrAngle</th>\n",
       "      <th>IqrangleTop</th>\n",
       "    </tr>\n",
       "  </thead>\n",
       "  <tbody>\n",
       "    <tr>\n",
       "      <th>50</th>\n",
       "      <td>110_nir_2016-06-20.png</td>\n",
       "      <td>1</td>\n",
       "      <td>33</td>\n",
       "      <td>0.090706</td>\n",
       "      <td>0.072585</td>\n",
       "      <td>33.764082</td>\n",
       "      <td>53.130102</td>\n",
       "      <td>0.00000</td>\n",
       "    </tr>\n",
       "    <tr>\n",
       "      <th>82</th>\n",
       "      <td>74_nir_2013-08-11.png</td>\n",
       "      <td>1</td>\n",
       "      <td>64</td>\n",
       "      <td>0.085060</td>\n",
       "      <td>0.072060</td>\n",
       "      <td>27.867705</td>\n",
       "      <td>28.346305</td>\n",
       "      <td>2.57431</td>\n",
       "    </tr>\n",
       "  </tbody>\n",
       "</table>\n",
       "</div>"
      ],
      "text/plain": [
       "                     ImgID  Label  ClusterSize  AvgLength  MedLength  \\\n",
       "50  110_nir_2016-06-20.png      1           33   0.090706   0.072585   \n",
       "82   74_nir_2013-08-11.png      1           64   0.085060   0.072060   \n",
       "\n",
       "     StdAngle   IqrAngle  IqrangleTop  \n",
       "50  33.764082  53.130102      0.00000  \n",
       "82  27.867705  28.346305      2.57431  "
      ]
     },
     "execution_count": 2863,
     "metadata": {},
     "output_type": "execute_result"
    }
   ],
   "source": [
    "# Look at some edge cases in the data\n",
    "\n",
    "# Large length, large angle spread\n",
    "data[(data.MedLength>=0.1) & (data.IqrAngle>60)]\n",
    "\n",
    "# Large angle spread\n",
    "data[data.IqrAngle>60]\n",
    "# these contains images with creeks running through\n",
    "\n",
    "# Positive labels with small lengths and medium spread in angle\n",
    "data[(data.Label==1) & (data.MedLength<0.1) & (data.IqrAngle>20) & (data.IqrAngle<60)].sort_values('ImgID')\n",
    "# these contains images irregular shape, creeks running through, or multiple groups of angles\n",
    "\n",
    "# Positive labels with small lengths and small spread in angle\n",
    "data[(data.Label==1) & (data.MedLength<0.1) & (data.IqrAngle<=20)].sort_values('ImgID')\n",
    "# these have small gaps (lines,pipes) running through part of the image\n",
    "\n",
    "# Positive labels with large lengths and small spread in angle\n",
    "data[(data.Label==1) & (data.MedLength>=0.1) & (data.IqrAngle<=20)].sort_values('ImgID')\n",
    "# these are the nice patterns \n",
    "\n",
    "\n",
    "data[(data.Label==1) & (data.AvgLength<0.1) & (data.StdAngle>20)].sort_values('ImgID')\n",
    "\n"
   ]
  },
  {
   "cell_type": "code",
   "execution_count": 2864,
   "metadata": {
    "collapsed": true
   },
   "outputs": [],
   "source": [
    "# DO KNN\n",
    "from sklearn.neighbors import KNeighborsClassifier"
   ]
  },
  {
   "cell_type": "code",
   "execution_count": 2865,
   "metadata": {
    "collapsed": true
   },
   "outputs": [],
   "source": [
    "# NOTE: NEED TO CHOOSE N_NEIGHBORS BASED ON K_FOLD CROSS_VALIDATION"
   ]
  },
  {
   "cell_type": "code",
   "execution_count": 2866,
   "metadata": {
    "collapsed": false
   },
   "outputs": [],
   "source": [
    "from sklearn.model_selection import KFold\n",
    "\n",
    "N_train_acc = np.array([])\n",
    "N_test_acc = np.array([])\n",
    "N_neighbors = range(1,40)\n",
    "\n",
    "for n in N_neighbors:\n",
    "\n",
    "    neigh = KNeighborsClassifier(n_neighbors=n)\n",
    "\n",
    "    kf = KFold(n_splits=5)\n",
    "    split = kf.split(X)\n",
    "    CV_test_acc = np.array([])\n",
    "    CV_train_acc = np.array([])\n",
    "    for train, test in kf.split(X):\n",
    "        X_train = X[train,:]\n",
    "        X_test = X[test,:]\n",
    "        y_train = y[train]\n",
    "        y_test = y[test]\n",
    "\n",
    "        neigh.fit(X_train, y_train)\n",
    "\n",
    "        # Prediction\n",
    "        y_pred = neigh.predict(X_train)\n",
    "        y_pred_train = neigh.predict(X_train)\n",
    "        y_pred_test = neigh.predict(X_test)\n",
    "\n",
    "        # Training and test accuracy\n",
    "        train_acc = float(sum(y_pred_train==y_train))/len(y_train)\n",
    "        test_acc  = float(sum(y_pred_test==y_test)) /len(y_test)\n",
    "\n",
    "        CV_train_acc = np.append(CV_train_acc,train_acc)\n",
    "        CV_test_acc = np.append(CV_test_acc,test_acc)\n",
    "\n",
    "    CV_train_acc = np.mean(CV_train_acc)\n",
    "    CV_test_acc = np.mean(CV_test_acc)\n",
    "    \n",
    "    N_train_acc = np.append(N_train_acc,CV_train_acc)\n",
    "    N_test_acc = np.append(N_test_acc,CV_test_acc)\n"
   ]
  },
  {
   "cell_type": "code",
   "execution_count": 2867,
   "metadata": {
    "collapsed": false
   },
   "outputs": [
    {
     "data": {
      "image/png": "[encoded data removed]",
      "text/plain": [
       "<matplotlib.figure.Figure at 0x120ef2190>"
      ]
     },
     "metadata": {},
     "output_type": "display_data"
    }
   ],
   "source": [
    "plt.plot(N_neighbors,N_train_acc)\n",
    "plt.plot(N_neighbors,N_test_acc)\n",
    "plt.show()"
   ]
  },
  {
   "cell_type": "code",
   "execution_count": 2868,
   "metadata": {
    "collapsed": true
   },
   "outputs": [],
   "source": [
    "# Choose n_neighbors = 20. "
   ]
  },
  {
   "cell_type": "code",
   "execution_count": 2869,
   "metadata": {
    "collapsed": false
   },
   "outputs": [],
   "source": [
    "# Plot ROC curve\n",
    "\n",
    "# from sklearn import svm, datasets\n",
    "# from sklearn.metrics import roc_curve, auc\n",
    "# from sklearn.model_selection import train_test_split\n",
    "# from sklearn.preprocessing import label_binarize\n",
    "# from sklearn.multiclass import OneVsRestClassifier\n",
    "# from scipy import interp\n",
    "\n",
    "# # shuffle and split training and test sets\n",
    "# X_train, X_test, y_train, y_test = train_test_split(X, y, test_size=.5,\n",
    "#                                                     random_state=0)\n",
    "\n",
    "# # Learn to predict each class against the other\n",
    "# neigh = KNeighborsClassifier(n_neighbors=20)\n",
    "\n",
    "# y_score = neigh.fit(X_train, y_train).decision_function(X_test)\n",
    "\n",
    "# # Compute ROC curve and ROC area for each class\n",
    "# fpr = dict()\n",
    "# tpr = dict()\n",
    "# roc_auc = dict()\n",
    "# for i in range(n_classes):\n",
    "#     fpr[i], tpr[i], _ = roc_curve(y_test[:, i], y_score[:, i])\n",
    "#     roc_auc[i] = auc(fpr[i], tpr[i])\n",
    "\n",
    "# # Compute micro-average ROC curve and ROC area\n",
    "# fpr[\"micro\"], tpr[\"micro\"], _ = roc_curve(y_test.ravel(), y_score.ravel())\n",
    "# roc_auc[\"micro\"] = auc(fpr[\"micro\"], tpr[\"micro\"])\n",
    "# Plot of a ROC curve for a specific class\n",
    "# plt.figure()\n",
    "# lw = 2\n",
    "# plt.plot(fpr[2], tpr[2], color='darkorange',\n",
    "#          lw=lw, label='ROC curve (area = %0.2f)' % roc_auc[2])\n",
    "# plt.plot([0, 1], [0, 1], color='navy', lw=lw, linestyle='--')\n",
    "# plt.xlim([0.0, 1.0])\n",
    "# plt.ylim([0.0, 1.05])\n",
    "# plt.xlabel('False Positive Rate')\n",
    "# plt.ylabel('True Positive Rate')\n",
    "# plt.title('Receiver operating characteristic example')\n",
    "# plt.legend(loc=\"lower right\")\n",
    "# plt.show()"
   ]
  },
  {
   "cell_type": "code",
   "execution_count": 2870,
   "metadata": {
    "collapsed": false
   },
   "outputs": [],
   "source": [
    "from sklearn.model_selection import train_test_split\n",
    "X_train, X_test, y_train, y_test = train_test_split(X, y, test_size=.3) #/,\n",
    "#                                                    random_state=0)"
   ]
  },
  {
   "cell_type": "code",
   "execution_count": 2871,
   "metadata": {
    "collapsed": true
   },
   "outputs": [],
   "source": [
    "# X_train = np.array([train_data.MedLength,train_data.IqrAngle]).T\n",
    "# X_test = np.array([test_data.MedLength,test_data.IqrAngle]).T\n",
    "# y_train = train_data.Label.as_matrix()\n",
    "# y_test = test_data.Label.as_matrix()"
   ]
  },
  {
   "cell_type": "code",
   "execution_count": 2872,
   "metadata": {
    "collapsed": false
   },
   "outputs": [
    {
     "data": {
      "text/plain": [
       "26"
      ]
     },
     "execution_count": 2872,
     "metadata": {},
     "output_type": "execute_result"
    }
   ],
   "source": [
    "len(X_test)"
   ]
  },
  {
   "cell_type": "code",
   "execution_count": 2873,
   "metadata": {
    "collapsed": false
   },
   "outputs": [
    {
     "data": {
      "text/plain": [
       "KNeighborsClassifier(algorithm='auto', leaf_size=30, metric='minkowski',\n",
       "           metric_params=None, n_jobs=1, n_neighbors=20, p=2,\n",
       "           weights='uniform')"
      ]
     },
     "execution_count": 2873,
     "metadata": {},
     "output_type": "execute_result"
    }
   ],
   "source": [
    "neigh = KNeighborsClassifier(n_neighbors=20)\n",
    "neigh.fit(X_train, y_train)"
   ]
  },
  {
   "cell_type": "code",
   "execution_count": 2874,
   "metadata": {
    "collapsed": false
   },
   "outputs": [],
   "source": [
    "# Prediction\n",
    "y_pred = neigh.predict(X)\n",
    "y_pred_train = neigh.predict(X_train)\n",
    "y_pred_test = neigh.predict(X_test)"
   ]
  },
  {
   "cell_type": "code",
   "execution_count": 2875,
   "metadata": {
    "collapsed": false
   },
   "outputs": [
    {
     "data": {
      "text/plain": [
       "26"
      ]
     },
     "execution_count": 2875,
     "metadata": {},
     "output_type": "execute_result"
    }
   ],
   "source": [
    "len(y_pred_test)"
   ]
  },
  {
   "cell_type": "code",
   "execution_count": 2876,
   "metadata": {
    "collapsed": false
   },
   "outputs": [
    {
     "name": "stdout",
     "output_type": "stream",
     "text": [
      "0.793103448276\n",
      "0.807692307692\n"
     ]
    }
   ],
   "source": [
    "# Training and test error\n",
    "train_err = float(sum(y_pred_train==y_train))/len(y_train)\n",
    "test_err = float(sum(y_pred_test==y_test))/len(y_test)\n",
    "print train_err\n",
    "print test_err"
   ]
  },
  {
   "cell_type": "code",
   "execution_count": 2877,
   "metadata": {
    "collapsed": false
   },
   "outputs": [
    {
     "name": "stdout",
     "output_type": "stream",
     "text": [
      "0.6\n",
      "0.857142857143\n",
      "0.705882352941\n",
      "0.807692307692\n"
     ]
    }
   ],
   "source": [
    "# Precision and recall\n",
    "P = np.where(y_test==1)[0]\n",
    "N = np.where(y_test==0)[0]\n",
    "\n",
    "P_pred = np.where(y_pred_test==1)[0]\n",
    "N_pred = np.where(y_pred_test==0)[0]\n",
    "\n",
    "TP = float(len(np.intersect1d(P,P_pred)))\n",
    "TN = float(len(np.intersect1d(N,N_pred)))\n",
    "FP = float(len(np.intersect1d(N,P_pred)))\n",
    "FN = float(len(np.intersect1d(P,N_pred)))\n",
    "\n",
    "prec = TP/(TP+FP)\n",
    "recall = TP/(TP+FN)\n",
    "\n",
    "\n",
    "Fscore = 2*prec*recall/(prec + recall)\n",
    "acc = (TP + TN)/(TP + TN + FP + FN)\n",
    "\n",
    "print prec\n",
    "print recall # note: this is unbalanced by many more positive than negative examples\n",
    "print Fscore\n",
    "print acc\n"
   ]
  },
  {
   "cell_type": "code",
   "execution_count": 2878,
   "metadata": {
    "collapsed": true
   },
   "outputs": [],
   "source": [
    "#high precision relates to a low false positive rate, and high recall relates to a low false negative rate."
   ]
  },
  {
   "cell_type": "code",
   "execution_count": 2879,
   "metadata": {
    "collapsed": false
   },
   "outputs": [
    {
     "data": {
      "image/png": "[encoded data removed]",
      "text/plain": [
       "<matplotlib.figure.Figure at 0x1214a29d0>"
      ]
     },
     "metadata": {},
     "output_type": "display_data"
    }
   ],
   "source": [
    "# Plotting decision regions\n",
    "x_min, x_max = X[:, 0].min() - 0.1, X[:, 0].max() + 0.1\n",
    "y_min, y_max = X[:, 1].min() - 0.1, X[:, 1].max() + 0.1\n",
    "xx, yy = np.meshgrid(np.arange(x_min, x_max, 0.1),\n",
    "                     np.arange(y_min, y_max, 0.1))\n",
    "\n",
    "\n",
    "Z = neigh.predict(np.c_[xx.ravel(), yy.ravel()])\n",
    "Z = Z.reshape(xx.shape)\n",
    "\n",
    "plt.contourf(xx, yy, Z, alpha=0.4)\n",
    "plt.scatter(X[:, 0], X[:, 1], c=y, alpha=0.8)\n",
    "plt.show()\n",
    "# axarr[idx[0], idx[1]].set_title(tt)"
   ]
  },
  {
   "cell_type": "code",
   "execution_count": 2880,
   "metadata": {
    "collapsed": false
   },
   "outputs": [],
   "source": [
    "# LOOK AT EDGE CASES OF FALSE PREDICTIONS\n",
    "\n",
    "# Plot false positives and false negatives\n",
    "\n",
    "FP_ix = np.intersect1d(N,P_pred)\n",
    "FN_ix = np.intersect1d(P,N_pred)\n"
   ]
  },
  {
   "cell_type": "code",
   "execution_count": 2881,
   "metadata": {
    "collapsed": true
   },
   "outputs": [],
   "source": [
    "# Training error and test error as a function of n_neighbors"
   ]
  },
  {
   "cell_type": "code",
   "execution_count": 2882,
   "metadata": {
    "collapsed": true
   },
   "outputs": [],
   "source": [
    "# Pick number of neigbors using cross-validation"
   ]
  },
  {
   "cell_type": "code",
   "execution_count": 2883,
   "metadata": {
    "collapsed": true
   },
   "outputs": [],
   "source": [
    "\n",
    "# # SVM\n",
    "\n",
    "# from sklearn.svm import SVC\n",
    "\n",
    "# clf = SVC()\n",
    "# model = clf.fit(X, y) \n",
    "\n",
    "# # decision boundary for just length\n",
    "# xx = np.linspace(np.min(X),np.max(X),100)\n",
    "\n",
    "# pred_prev = 0\n",
    "# for x in xx:\n",
    "#     pred = clf.predict(x)\n",
    "#     if pred[0] > pred_prev:\n",
    "#         x_dec = x\n",
    "#         break\n",
    "#     pred_prev = pred\n",
    "\n",
    "# predictions = clf.predict(X)\n",
    "\n",
    "# colors = ['g' if label else 'r' for label in data.Label]\n",
    "\n",
    "# plt.scatter(data.Avglength,data.Stdangle,c=colors)\n",
    "# plt.axis('equal')\n",
    "# plt.xlabel('Average length')\n",
    "# plt.ylabel('St. dev. in angle')\n",
    "# # plt.plot([x_dec,x_dec],[np.min(data.Stdangle),np.max(data.Stdangle)])\n",
    "# plt.axis('tight')\n",
    "# plt.show()"
   ]
  },
  {
   "cell_type": "code",
   "execution_count": null,
   "metadata": {
    "collapsed": true
   },
   "outputs": [],
   "source": []
  }
 ],
 "metadata": {
  "anaconda-cloud": {},
  "kernelspec": {
   "display_name": "Python [conda root]",
   "language": "python",
   "name": "conda-root-py"
  },
  "language_info": {
   "codemirror_mode": {
    "name": "ipython",
    "version": 2
   },
   "file_extension": ".py",
   "mimetype": "text/x-python",
   "name": "python",
   "nbconvert_exporter": "python",
   "pygments_lexer": "ipython2",
   "version": "2.7.13"
  }
 },
 "nbformat": 4,
 "nbformat_minor": 2
}
