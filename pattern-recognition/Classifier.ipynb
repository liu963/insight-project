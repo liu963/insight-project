{
 "cells": [
  {
   "cell_type": "code",
   "execution_count": 1,
   "metadata": {
    "collapsed": true
   },
   "outputs": [],
   "source": [
    "import numpy as np\n",
    "import matplotlib\n",
    "import matplotlib.pyplot as plt\n",
    "from sklearn.cluster import KMeans\n",
    "from scipy.stats import iqr\n",
    "import pandas as pd"
   ]
  },
  {
   "cell_type": "code",
   "execution_count": 7,
   "metadata": {
    "collapsed": true
   },
   "outputs": [],
   "source": [
    "# Read in data\n",
    "\n",
    "data = pd.read_csv('labels.txt')"
   ]
  },
  {
   "cell_type": "code",
   "execution_count": 8,
   "metadata": {
    "collapsed": false
   },
   "outputs": [
    {
     "data": {
      "text/html": [
       "<div>\n",
       "<table border=\"1\" class=\"dataframe\">\n",
       "  <thead>\n",
       "    <tr style=\"text-align: right;\">\n",
       "      <th></th>\n",
       "      <th>Label</th>\n",
       "      <th>Avglength</th>\n",
       "      <th>Medlength</th>\n",
       "      <th>Stdangle</th>\n",
       "      <th>Iqrangle</th>\n",
       "    </tr>\n",
       "  </thead>\n",
       "  <tbody>\n",
       "    <tr>\n",
       "      <th>0</th>\n",
       "      <td>1</td>\n",
       "      <td>29.143504</td>\n",
       "      <td>27.009256</td>\n",
       "      <td>1.459294</td>\n",
       "      <td>1.636577</td>\n",
       "    </tr>\n",
       "    <tr>\n",
       "      <th>1</th>\n",
       "      <td>0</td>\n",
       "      <td>2.383829</td>\n",
       "      <td>1.414214</td>\n",
       "      <td>29.439803</td>\n",
       "      <td>45.000000</td>\n",
       "    </tr>\n",
       "    <tr>\n",
       "      <th>2</th>\n",
       "      <td>1</td>\n",
       "      <td>46.789089</td>\n",
       "      <td>38.209946</td>\n",
       "      <td>2.171741</td>\n",
       "      <td>3.270488</td>\n",
       "    </tr>\n",
       "    <tr>\n",
       "      <th>3</th>\n",
       "      <td>0</td>\n",
       "      <td>5.972353</td>\n",
       "      <td>4.000000</td>\n",
       "      <td>21.349845</td>\n",
       "      <td>0.000000</td>\n",
       "    </tr>\n",
       "    <tr>\n",
       "      <th>4</th>\n",
       "      <td>1</td>\n",
       "      <td>53.189768</td>\n",
       "      <td>51.000000</td>\n",
       "      <td>1.176314</td>\n",
       "      <td>1.818760</td>\n",
       "    </tr>\n",
       "    <tr>\n",
       "      <th>5</th>\n",
       "      <td>0</td>\n",
       "      <td>4.709457</td>\n",
       "      <td>3.000000</td>\n",
       "      <td>16.579114</td>\n",
       "      <td>0.000000</td>\n",
       "    </tr>\n",
       "    <tr>\n",
       "      <th>6</th>\n",
       "      <td>1</td>\n",
       "      <td>47.094478</td>\n",
       "      <td>40.012498</td>\n",
       "      <td>1.102085</td>\n",
       "      <td>1.325486</td>\n",
       "    </tr>\n",
       "    <tr>\n",
       "      <th>7</th>\n",
       "      <td>0</td>\n",
       "      <td>4.334981</td>\n",
       "      <td>3.000000</td>\n",
       "      <td>12.944780</td>\n",
       "      <td>0.000000</td>\n",
       "    </tr>\n",
       "    <tr>\n",
       "      <th>8</th>\n",
       "      <td>1</td>\n",
       "      <td>44.416170</td>\n",
       "      <td>36.055513</td>\n",
       "      <td>1.730261</td>\n",
       "      <td>2.792702</td>\n",
       "    </tr>\n",
       "    <tr>\n",
       "      <th>9</th>\n",
       "      <td>0</td>\n",
       "      <td>5.772716</td>\n",
       "      <td>4.000000</td>\n",
       "      <td>13.476894</td>\n",
       "      <td>0.000000</td>\n",
       "    </tr>\n",
       "    <tr>\n",
       "      <th>10</th>\n",
       "      <td>1</td>\n",
       "      <td>43.303398</td>\n",
       "      <td>35.062392</td>\n",
       "      <td>37.685992</td>\n",
       "      <td>27.610900</td>\n",
       "    </tr>\n",
       "    <tr>\n",
       "      <th>11</th>\n",
       "      <td>0</td>\n",
       "      <td>2.298521</td>\n",
       "      <td>2.000000</td>\n",
       "      <td>35.012297</td>\n",
       "      <td>90.000000</td>\n",
       "    </tr>\n",
       "    <tr>\n",
       "      <th>12</th>\n",
       "      <td>1</td>\n",
       "      <td>38.938661</td>\n",
       "      <td>32.000000</td>\n",
       "      <td>14.803525</td>\n",
       "      <td>2.489553</td>\n",
       "    </tr>\n",
       "    <tr>\n",
       "      <th>13</th>\n",
       "      <td>0</td>\n",
       "      <td>4.206593</td>\n",
       "      <td>3.000000</td>\n",
       "      <td>31.979605</td>\n",
       "      <td>45.000000</td>\n",
       "    </tr>\n",
       "    <tr>\n",
       "      <th>14</th>\n",
       "      <td>1</td>\n",
       "      <td>12.262859</td>\n",
       "      <td>11.022681</td>\n",
       "      <td>11.225282</td>\n",
       "      <td>10.082196</td>\n",
       "    </tr>\n",
       "    <tr>\n",
       "      <th>15</th>\n",
       "      <td>0</td>\n",
       "      <td>2.592636</td>\n",
       "      <td>2.000000</td>\n",
       "      <td>18.833133</td>\n",
       "      <td>14.036243</td>\n",
       "    </tr>\n",
       "    <tr>\n",
       "      <th>16</th>\n",
       "      <td>1</td>\n",
       "      <td>45.547638</td>\n",
       "      <td>37.013511</td>\n",
       "      <td>1.152172</td>\n",
       "      <td>1.101706</td>\n",
       "    </tr>\n",
       "    <tr>\n",
       "      <th>17</th>\n",
       "      <td>0</td>\n",
       "      <td>4.472833</td>\n",
       "      <td>3.000000</td>\n",
       "      <td>25.042897</td>\n",
       "      <td>18.434949</td>\n",
       "    </tr>\n",
       "    <tr>\n",
       "      <th>18</th>\n",
       "      <td>1</td>\n",
       "      <td>21.455235</td>\n",
       "      <td>18.013878</td>\n",
       "      <td>4.209687</td>\n",
       "      <td>4.320433</td>\n",
       "    </tr>\n",
       "    <tr>\n",
       "      <th>19</th>\n",
       "      <td>0</td>\n",
       "      <td>3.744674</td>\n",
       "      <td>3.000000</td>\n",
       "      <td>19.099779</td>\n",
       "      <td>7.125016</td>\n",
       "    </tr>\n",
       "    <tr>\n",
       "      <th>20</th>\n",
       "      <td>1</td>\n",
       "      <td>19.247080</td>\n",
       "      <td>15.000000</td>\n",
       "      <td>11.071145</td>\n",
       "      <td>6.917427</td>\n",
       "    </tr>\n",
       "    <tr>\n",
       "      <th>21</th>\n",
       "      <td>0</td>\n",
       "      <td>3.151392</td>\n",
       "      <td>2.236068</td>\n",
       "      <td>26.987430</td>\n",
       "      <td>33.690068</td>\n",
       "    </tr>\n",
       "    <tr>\n",
       "      <th>22</th>\n",
       "      <td>1</td>\n",
       "      <td>8.524700</td>\n",
       "      <td>7.071068</td>\n",
       "      <td>15.932169</td>\n",
       "      <td>15.945396</td>\n",
       "    </tr>\n",
       "    <tr>\n",
       "      <th>23</th>\n",
       "      <td>0</td>\n",
       "      <td>2.331655</td>\n",
       "      <td>2.000000</td>\n",
       "      <td>27.026865</td>\n",
       "      <td>45.000000</td>\n",
       "    </tr>\n",
       "    <tr>\n",
       "      <th>24</th>\n",
       "      <td>1</td>\n",
       "      <td>10.075486</td>\n",
       "      <td>8.602325</td>\n",
       "      <td>25.167161</td>\n",
       "      <td>30.529706</td>\n",
       "    </tr>\n",
       "    <tr>\n",
       "      <th>25</th>\n",
       "      <td>0</td>\n",
       "      <td>2.418362</td>\n",
       "      <td>2.000000</td>\n",
       "      <td>33.384007</td>\n",
       "      <td>63.434949</td>\n",
       "    </tr>\n",
       "    <tr>\n",
       "      <th>26</th>\n",
       "      <td>1</td>\n",
       "      <td>8.524700</td>\n",
       "      <td>7.071068</td>\n",
       "      <td>15.932169</td>\n",
       "      <td>15.945396</td>\n",
       "    </tr>\n",
       "    <tr>\n",
       "      <th>27</th>\n",
       "      <td>0</td>\n",
       "      <td>2.331655</td>\n",
       "      <td>2.000000</td>\n",
       "      <td>27.026865</td>\n",
       "      <td>45.000000</td>\n",
       "    </tr>\n",
       "    <tr>\n",
       "      <th>28</th>\n",
       "      <td>1</td>\n",
       "      <td>8.997154</td>\n",
       "      <td>7.807887</td>\n",
       "      <td>17.058348</td>\n",
       "      <td>22.764546</td>\n",
       "    </tr>\n",
       "    <tr>\n",
       "      <th>29</th>\n",
       "      <td>0</td>\n",
       "      <td>2.212012</td>\n",
       "      <td>2.000000</td>\n",
       "      <td>30.226226</td>\n",
       "      <td>45.000000</td>\n",
       "    </tr>\n",
       "    <tr>\n",
       "      <th>30</th>\n",
       "      <td>1</td>\n",
       "      <td>31.753676</td>\n",
       "      <td>33.007351</td>\n",
       "      <td>0.729490</td>\n",
       "      <td>0.421171</td>\n",
       "    </tr>\n",
       "    <tr>\n",
       "      <th>31</th>\n",
       "      <td>0</td>\n",
       "      <td>2.845521</td>\n",
       "      <td>2.000000</td>\n",
       "      <td>26.491383</td>\n",
       "      <td>45.000000</td>\n",
       "    </tr>\n",
       "  </tbody>\n",
       "</table>\n",
       "</div>"
      ],
      "text/plain": [
       "    Label  Avglength  Medlength   Stdangle   Iqrangle\n",
       "0       1  29.143504  27.009256   1.459294   1.636577\n",
       "1       0   2.383829   1.414214  29.439803  45.000000\n",
       "2       1  46.789089  38.209946   2.171741   3.270488\n",
       "3       0   5.972353   4.000000  21.349845   0.000000\n",
       "4       1  53.189768  51.000000   1.176314   1.818760\n",
       "5       0   4.709457   3.000000  16.579114   0.000000\n",
       "6       1  47.094478  40.012498   1.102085   1.325486\n",
       "7       0   4.334981   3.000000  12.944780   0.000000\n",
       "8       1  44.416170  36.055513   1.730261   2.792702\n",
       "9       0   5.772716   4.000000  13.476894   0.000000\n",
       "10      1  43.303398  35.062392  37.685992  27.610900\n",
       "11      0   2.298521   2.000000  35.012297  90.000000\n",
       "12      1  38.938661  32.000000  14.803525   2.489553\n",
       "13      0   4.206593   3.000000  31.979605  45.000000\n",
       "14      1  12.262859  11.022681  11.225282  10.082196\n",
       "15      0   2.592636   2.000000  18.833133  14.036243\n",
       "16      1  45.547638  37.013511   1.152172   1.101706\n",
       "17      0   4.472833   3.000000  25.042897  18.434949\n",
       "18      1  21.455235  18.013878   4.209687   4.320433\n",
       "19      0   3.744674   3.000000  19.099779   7.125016\n",
       "20      1  19.247080  15.000000  11.071145   6.917427\n",
       "21      0   3.151392   2.236068  26.987430  33.690068\n",
       "22      1   8.524700   7.071068  15.932169  15.945396\n",
       "23      0   2.331655   2.000000  27.026865  45.000000\n",
       "24      1  10.075486   8.602325  25.167161  30.529706\n",
       "25      0   2.418362   2.000000  33.384007  63.434949\n",
       "26      1   8.524700   7.071068  15.932169  15.945396\n",
       "27      0   2.331655   2.000000  27.026865  45.000000\n",
       "28      1   8.997154   7.807887  17.058348  22.764546\n",
       "29      0   2.212012   2.000000  30.226226  45.000000\n",
       "30      1  31.753676  33.007351   0.729490   0.421171\n",
       "31      0   2.845521   2.000000  26.491383  45.000000"
      ]
     },
     "execution_count": 8,
     "metadata": {},
     "output_type": "execute_result"
    }
   ],
   "source": [
    "data"
   ]
  },
  {
   "cell_type": "code",
   "execution_count": 21,
   "metadata": {
    "collapsed": true
   },
   "outputs": [],
   "source": [
    "from sklearn.svm import SVC\n"
   ]
  },
  {
   "cell_type": "code",
   "execution_count": 53,
   "metadata": {
    "collapsed": true
   },
   "outputs": [],
   "source": [
    "# X = np.array([data.Avglength,data.Stdangle]).T\n",
    "X = data.Avglength.as_matrix().reshape(-1,1)\n",
    "y = data.Label.as_matrix()"
   ]
  },
  {
   "cell_type": "code",
   "execution_count": 54,
   "metadata": {
    "collapsed": false
   },
   "outputs": [],
   "source": [
    "clf = SVC()\n",
    "model = clf.fit(X, y) "
   ]
  },
  {
   "cell_type": "code",
   "execution_count": 57,
   "metadata": {
    "collapsed": false
   },
   "outputs": [
    {
     "name": "stdout",
     "output_type": "stream",
     "text": [
      "[1]\n"
     ]
    }
   ],
   "source": [
    "print(clf.predict([[8]]))"
   ]
  },
  {
   "cell_type": "code",
   "execution_count": 58,
   "metadata": {
    "collapsed": false
   },
   "outputs": [
    {
     "data": {
      "text/plain": [
       "SVC(C=1.0, cache_size=200, class_weight=None, coef0=0.0,\n",
       "  decision_function_shape=None, degree=3, gamma='auto', kernel='rbf',\n",
       "  max_iter=-1, probability=False, random_state=None, shrinking=True,\n",
       "  tol=0.001, verbose=False)"
      ]
     },
     "execution_count": 58,
     "metadata": {},
     "output_type": "execute_result"
    }
   ],
   "source": [
    "model"
   ]
  },
  {
   "cell_type": "code",
   "execution_count": 66,
   "metadata": {
    "collapsed": false
   },
   "outputs": [],
   "source": [
    "# decision boundary for just length\n",
    "xx = np.linspace(np.min(X),np.max(X),100)"
   ]
  },
  {
   "cell_type": "code",
   "execution_count": 80,
   "metadata": {
    "collapsed": false
   },
   "outputs": [],
   "source": [
    "pred_prev = 0\n",
    "for x in xx:\n",
    "    pred = clf.predict(x)\n",
    "    if pred[0] > pred_prev:\n",
    "        x_dec = x\n",
    "        break\n",
    "    pred_prev = pred"
   ]
  },
  {
   "cell_type": "code",
   "execution_count": 81,
   "metadata": {
    "collapsed": false
   },
   "outputs": [
    {
     "data": {
      "text/plain": [
       "6.8463534545454543"
      ]
     },
     "execution_count": 81,
     "metadata": {},
     "output_type": "execute_result"
    }
   ],
   "source": [
    "x_dec"
   ]
  },
  {
   "cell_type": "code",
   "execution_count": 85,
   "metadata": {
    "collapsed": false
   },
   "outputs": [
    {
     "data": {
      "image/png": "[encoded data removed]",
      "text/plain": [
       "<matplotlib.figure.Figure at 0x115ea9350>"
      ]
     },
     "metadata": {},
     "output_type": "display_data"
    }
   ],
   "source": [
    "colors = ['g' if label else 'r' for label in data.Label]\n",
    "\n",
    "plt.scatter(data.Avglength,data.Stdangle,c=colors)\n",
    "plt.axis('equal')\n",
    "plt.xlabel('Average length')\n",
    "plt.ylabel('St. dev. in angle')\n",
    "plt.plot([x_dec,x_dec],[np.min(data.Stdangle),np.max(data.Stdangle)])\n",
    "plt.axis('tight')\n",
    "plt.show()"
   ]
  },
  {
   "cell_type": "code",
   "execution_count": null,
   "metadata": {
    "collapsed": true
   },
   "outputs": [],
   "source": []
  }
 ],
 "metadata": {
  "kernelspec": {
   "display_name": "Python [conda root]",
   "language": "python",
   "name": "conda-root-py"
  },
  "language_info": {
   "codemirror_mode": {
    "name": "ipython",
    "version": 2
   },
   "file_extension": ".py",
   "mimetype": "text/x-python",
   "name": "python",
   "nbconvert_exporter": "python",
   "pygments_lexer": "ipython2",
   "version": "2.7.13"
  }
 },
 "nbformat": 4,
 "nbformat_minor": 2
}
